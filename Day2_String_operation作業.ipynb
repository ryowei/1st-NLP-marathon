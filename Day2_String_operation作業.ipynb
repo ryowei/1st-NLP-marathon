{
  "nbformat": 4,
  "nbformat_minor": 0,
  "metadata": {
    "kernelspec": {
      "display_name": "Python 3",
      "language": "python",
      "name": "python3"
    },
    "language_info": {
      "codemirror_mode": {
        "name": "ipython",
        "version": 3
      },
      "file_extension": ".py",
      "mimetype": "text/x-python",
      "name": "python",
      "nbconvert_exporter": "python",
      "pygments_lexer": "ipython3",
      "version": "3.7.4"
    },
    "colab": {
      "name": "Day2- String operation作業.ipynb",
      "provenance": [],
      "include_colab_link": true
    }
  },
  "cells": [
    {
      "cell_type": "markdown",
      "metadata": {
        "id": "view-in-github",
        "colab_type": "text"
      },
      "source": [
        "<a href=\"https://colab.research.google.com/github/ryowei/1st-NLP-marathon/blob/main/Day2_String_operation%E4%BD%9C%E6%A5%AD.ipynb\" target=\"_parent\"><img src=\"https://colab.research.google.com/assets/colab-badge.svg\" alt=\"Open In Colab\"/></a>"
      ]
    },
    {
      "cell_type": "markdown",
      "metadata": {
        "id": "fR0nNiZ9Cojq"
      },
      "source": [
        "# 作業目標：運用課程所學，操作字串達到預期輸出"
      ]
    },
    {
      "cell_type": "markdown",
      "metadata": {
        "id": "XP6WSTOlCojv"
      },
      "source": [
        "---"
      ]
    },
    {
      "cell_type": "markdown",
      "metadata": {
        "id": "nbs2XADLCojy"
      },
      "source": [
        "### isnumeric(), isdigit(), isdecimal() 各有幾個"
      ]
    },
    {
      "cell_type": "code",
      "metadata": {
        "id": "076AbEjMCojz"
      },
      "source": [
        "test_string = ['5.9', '30', '½', '³', '⑬']"
      ],
      "execution_count": null,
      "outputs": []
    },
    {
      "cell_type": "code",
      "metadata": {
        "id": "N0hmPIO-Coj7"
      },
      "source": [
        "def spam(s, isnumeric_count, isdigit_count, isdecimal_count):\n",
        "    for attr in ['isnumeric', 'isdecimal', 'isdigit']:\n",
        "      if attr == 'isnumeric':\n",
        "        if getattr(s, attr)():\n",
        "          isnumeric_count+=1\n",
        "      elif attr == 'isdigit':\n",
        "        if getattr(s, attr)():\n",
        "          isdigit_count += 1\n",
        "      elif attr == 'isdecimal':\n",
        "        if getattr(s, attr)():\n",
        "          isdecimal_count += 1\n",
        "    return isnumeric_count, isdigit_count, isdecimal_count\n",
        "\n",
        "\n"
      ],
      "execution_count": null,
      "outputs": []
    },
    {
      "cell_type": "code",
      "metadata": {
        "id": "Z1Mv0fQ1DWA9",
        "outputId": "0aa47689-6632-43a6-c4e7-db2d45af09cd",
        "colab": {
          "base_uri": "https://localhost:8080/"
        }
      },
      "source": [
        "isnumeric_count = 0\n",
        "isdigit_count = 0 \n",
        "isdecimal_count = 0\n",
        "\n",
        "for s in test_string:\n",
        "  isnumeric_count, isdigit_count, isdecimal_count = spam(s, isnumeric_count, isdigit_count, isdecimal_count)\n",
        "\n",
        "\n",
        "print('isnumeric_count: {}'.format(isnumeric_count))\n",
        "print('isdigit_count: {}'.format(isdigit_count))\n",
        "print('isdecimal_count: {}'.format(isdecimal_count))"
      ],
      "execution_count": null,
      "outputs": [
        {
          "output_type": "stream",
          "text": [
            "isnumeric_count: 4\n",
            "isdigit_count: 2\n",
            "isdecimal_count: 1\n"
          ],
          "name": "stdout"
        }
      ]
    },
    {
      "cell_type": "code",
      "metadata": {
        "id": "UoyCjf_sCoj-",
        "outputId": "381a4865-d8b1-408d-aa21-527c248441c1"
      },
      "source": [
        "print('isnumeric_count: {}'.format(isnumeric_count))     \n",
        "print('isdigit_count: {}'.format(isdigit_count))     \n",
        "print('isdecimal_count: {}'.format(isdecimal_count))  "
      ],
      "execution_count": null,
      "outputs": [
        {
          "output_type": "stream",
          "text": [
            "isnumeric_count: 4\n",
            "isdigit_count: 2\n",
            "isdecimal_count: 1\n"
          ],
          "name": "stdout"
        }
      ]
    },
    {
      "cell_type": "markdown",
      "metadata": {
        "id": "1rDSPwmSCokF"
      },
      "source": [
        "---"
      ]
    },
    {
      "cell_type": "markdown",
      "metadata": {
        "id": "jd-GMyvlCokG"
      },
      "source": [
        "## 運用formatting 技巧 output\n",
        "    * Accuracy: 98.13%, Recall: 94.88%, Precision: 96.29%"
      ]
    },
    {
      "cell_type": "code",
      "metadata": {
        "id": "-1qPktQtCokH"
      },
      "source": [
        "accuracy = 98.129393\n",
        "recall =   94.879583\n",
        "precision =96.294821"
      ],
      "execution_count": null,
      "outputs": []
    },
    {
      "cell_type": "code",
      "metadata": {
        "id": "6TyZEs-ECokN",
        "outputId": "f61a4c41-398e-4c07-db01-95e30e09bdbc",
        "colab": {
          "base_uri": "https://localhost:8080/"
        }
      },
      "source": [
        "print('Accuracy: {:.2f}%, Recall: {:.2f}%, Precision: {:.2f}%'.format(accuracy, recall, precision))"
      ],
      "execution_count": null,
      "outputs": [
        {
          "output_type": "stream",
          "text": [
            "Accuracy: 98.13%, Recall: 94.88%, Precision: 96.29%\n"
          ],
          "name": "stdout"
        }
      ]
    },
    {
      "cell_type": "code",
      "metadata": {
        "id": "sL20tkoKCokY",
        "outputId": "e601ff21-5952-486c-f6c1-72024db44843"
      },
      "source": [
        "print('Accuracy: {:.2f}%, Recall: {:.2f}%, Precision: {:.2f}%'.format(accuracy, recall, precision))"
      ],
      "execution_count": null,
      "outputs": [
        {
          "output_type": "stream",
          "text": [
            "Accuracy: 98.13%, Recall: 94.88%, Precision: 96.29%\n"
          ],
          "name": "stdout"
        }
      ]
    },
    {
      "cell_type": "markdown",
      "metadata": {
        "id": "Y4DYefRaCokf"
      },
      "source": [
        "---"
      ]
    },
    {
      "cell_type": "markdown",
      "metadata": {
        "id": "CL9x41JWCokg"
      },
      "source": [
        "## 依照只是轉換number output format"
      ]
    },
    {
      "cell_type": "code",
      "metadata": {
        "id": "Kih3KTf3Cokh"
      },
      "source": [
        "number = 3.1415926"
      ],
      "execution_count": null,
      "outputs": []
    },
    {
      "cell_type": "markdown",
      "metadata": {
        "id": "ft-WOi1-Cokl"
      },
      "source": [
        "#### 轉換為科學符號表示法 (小數點後兩位)"
      ]
    },
    {
      "cell_type": "code",
      "metadata": {
        "id": "boAnV13XLUpZ",
        "outputId": "e1997826-6063-4a2b-aa23-540ef456f2a8",
        "colab": {
          "base_uri": "https://localhost:8080/"
        }
      },
      "source": [
        "print('{:.2e}'.format(number))"
      ],
      "execution_count": null,
      "outputs": [
        {
          "output_type": "stream",
          "text": [
            "3.14e+00\n"
          ],
          "name": "stdout"
        }
      ]
    },
    {
      "cell_type": "code",
      "metadata": {
        "id": "NymLj8TaCokm",
        "outputId": "072296f7-8610-40e4-a7d3-ae713383d95c"
      },
      "source": [
        "print('練習部分')"
      ],
      "execution_count": null,
      "outputs": [
        {
          "output_type": "execute_result",
          "data": {
            "text/plain": [
              "'3.14e+00'"
            ]
          },
          "metadata": {
            "tags": []
          },
          "execution_count": 53
        }
      ]
    },
    {
      "cell_type": "markdown",
      "metadata": {
        "id": "tKm9Nn5NCoks"
      },
      "source": [
        "#### 轉換為%"
      ]
    },
    {
      "cell_type": "code",
      "metadata": {
        "id": "F9RieDEgMb8i",
        "outputId": "76190f5b-200e-4581-d29c-5ae6098af71a",
        "colab": {
          "base_uri": "https://localhost:8080/"
        }
      },
      "source": [
        "print('{:.2%}'.format(number))"
      ],
      "execution_count": null,
      "outputs": [
        {
          "output_type": "stream",
          "text": [
            "314.16%\n"
          ],
          "name": "stdout"
        }
      ]
    },
    {
      "cell_type": "code",
      "metadata": {
        "id": "uZT9wURlCokt",
        "outputId": "bcb35423-4453-4889-a7e0-5b7ca6f77e30"
      },
      "source": [
        "print('練習部分')"
      ],
      "execution_count": null,
      "outputs": [
        {
          "output_type": "execute_result",
          "data": {
            "text/plain": [
              "'314.16%'"
            ]
          },
          "metadata": {
            "tags": []
          },
          "execution_count": 54
        }
      ]
    },
    {
      "cell_type": "markdown",
      "metadata": {
        "id": "J51hD3qpCoky"
      },
      "source": [
        "#### 補零成為3.14159300"
      ]
    },
    {
      "cell_type": "code",
      "metadata": {
        "id": "Ve6ywDW9Mher",
        "outputId": "ed357d95-3796-4bcd-8ffd-500aee834fe2",
        "colab": {
          "base_uri": "https://localhost:8080/"
        }
      },
      "source": [
        "print('{:0<10f}'.format(number))"
      ],
      "execution_count": null,
      "outputs": [
        {
          "output_type": "stream",
          "text": [
            "3.14159300\n"
          ],
          "name": "stdout"
        }
      ]
    },
    {
      "cell_type": "code",
      "metadata": {
        "id": "Y2D0FowNCokz",
        "outputId": "e56e33c5-b7ed-4eb0-bde9-f1c99c504a06"
      },
      "source": [
        "print('練習部分')"
      ],
      "execution_count": null,
      "outputs": [
        {
          "output_type": "execute_result",
          "data": {
            "text/plain": [
              "'3.14159300'"
            ]
          },
          "metadata": {
            "tags": []
          },
          "execution_count": 55
        }
      ]
    }
  ]
}