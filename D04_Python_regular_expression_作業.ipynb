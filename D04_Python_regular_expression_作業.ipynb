{
  "nbformat": 4,
  "nbformat_minor": 0,
  "metadata": {
    "colab": {
      "name": "D04_Python_regular_expression_作業.ipynb",
      "provenance": [],
      "include_colab_link": true
    },
    "kernelspec": {
      "display_name": "pytorch_env",
      "language": "python",
      "name": "pytorch_env"
    },
    "language_info": {
      "codemirror_mode": {
        "name": "ipython",
        "version": 3
      },
      "file_extension": ".py",
      "mimetype": "text/x-python",
      "name": "python",
      "nbconvert_exporter": "python",
      "pygments_lexer": "ipython3",
      "version": "3.7.3"
    }
  },
  "cells": [
    {
      "cell_type": "markdown",
      "metadata": {
        "id": "view-in-github",
        "colab_type": "text"
      },
      "source": [
        "<a href=\"https://colab.research.google.com/github/ryowei/1st-NLP-marathon/blob/main/D04_Python_regular_expression_%E4%BD%9C%E6%A5%AD.ipynb\" target=\"_parent\"><img src=\"https://colab.research.google.com/assets/colab-badge.svg\" alt=\"Open In Colab\"/></a>"
      ]
    },
    {
      "cell_type": "markdown",
      "metadata": {
        "id": "tTJolmzeBLGr"
      },
      "source": [
        "# 作業目標: 使用python正規表達式對資料進行清洗處理\n",
        "\n",
        "這份作業我們會使用詐欺郵件的文本資料來作為清洗與處理的操作。\n",
        "[資料集](https://www.kaggle.com/rtatman/fraudulent-email-corpus/data#)"
      ]
    },
    {
      "cell_type": "markdown",
      "metadata": {
        "id": "vhv0OElTBLGs"
      },
      "source": [
        "### 讀入資料文本\n",
        "因原始文本較大，先使用部份擷取的**sample_emails.txt**來進行練習"
      ]
    },
    {
      "cell_type": "code",
      "metadata": {
        "colab": {
          "resources": {
            "http://localhost:8080/nbextensions/google.colab/files.js": {
              "data": "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",
              "ok": true,
              "headers": [
                [
                  "content-type",
                  "application/javascript"
                ]
              ],
              "status": 200,
              "status_text": ""
            }
          },
          "base_uri": "https://localhost:8080/",
          "height": 76
        },
        "id": "a0BdDqt1BLGt",
        "outputId": "d4811c65-9f2a-483d-eb8a-cde586b943b6"
      },
      "source": [
        "#讀取文本資料\n",
        "from google.colab import files\n",
        "# 上傳CSV\n",
        "uploaded = files.upload()"
      ],
      "execution_count": null,
      "outputs": [
        {
          "output_type": "display_data",
          "data": {
            "text/html": [
              "\n",
              "     <input type=\"file\" id=\"files-68e5cb7e-d58c-457c-863d-fb6be82544e6\" name=\"files[]\" multiple disabled\n",
              "        style=\"border:none\" />\n",
              "     <output id=\"result-68e5cb7e-d58c-457c-863d-fb6be82544e6\">\n",
              "      Upload widget is only available when the cell has been executed in the\n",
              "      current browser session. Please rerun this cell to enable.\n",
              "      </output>\n",
              "      <script src=\"/nbextensions/google.colab/files.js\"></script> "
            ],
            "text/plain": [
              "<IPython.core.display.HTML object>"
            ]
          },
          "metadata": {
            "tags": []
          }
        },
        {
          "output_type": "stream",
          "text": [
            "Saving sample_emails.txt to sample_emails.txt\n"
          ],
          "name": "stdout"
        }
      ]
    },
    {
      "cell_type": "code",
      "metadata": {
        "id": "DIIB8tnJsjxB"
      },
      "source": [
        "with open('sample_emails.txt', 'r', encoding=\"utf8\", errors='ignore') as f:\n",
        "    sample_corpus = f.read()"
      ],
      "execution_count": null,
      "outputs": []
    },
    {
      "cell_type": "code",
      "metadata": {
        "colab": {
          "base_uri": "https://localhost:8080/",
          "height": 137
        },
        "id": "XQbjXNKdBLGx",
        "scrolled": true,
        "outputId": "2145014e-68b6-469d-c441-8356c60f2849"
      },
      "source": [
        "sample_corpus"
      ],
      "execution_count": null,
      "outputs": [
        {
          "output_type": "execute_result",
          "data": {
            "application/vnd.google.colaboratory.intrinsic+json": {
              "type": "string"
            },
            "text/plain": [
              "'From r  Wed Oct 30 21:41:56 2002\\nReturn-Path: <james_ngola2002@maktoob.com>\\nX-Sieve: cmu-sieve 2.0\\nReturn-Path: <james_ngola2002@maktoob.com>\\nMessage-Id: <200210310241.g9V2fNm6028281@cs.CU>\\nFrom: \"MR. JAMES NGOLA.\" <james_ngola2002@maktoob.com>\\nReply-To: james_ngola2002@maktoob.com\\nTo: webmaster@aclweb.org\\nDate: Thu, 31 Oct 2002 02:38:20 +0000\\nSubject: URGENT BUSINESS ASSISTANCE AND PARTNERSHIP\\nX-Mailer: Microsoft Outlook Express 5.00.2919.6900 DM\\nMIME-Version: 1.0\\nContent-Type: text/plain; charset=\"us-ascii\"\\nContent-Transfer-Encoding: 8bit\\nX-MIME-Autoconverted: from quoted-printable to 8bit by sideshowmel.si.UM id g9V2foW24311\\nStatus: O\\n\\nFROM:MR. JAMES NGOLA.\\nCONFIDENTIAL TEL: 233-27-587908.\\nE-MAIL: (james_ngola2002@maktoob.com).\\n\\nURGENT BUSINESS ASSISTANCE AND PARTNERSHIP.\\n\\n\\nDEAR FRIEND,\\n\\nI AM ( DR.) JAMES NGOLA, THE PERSONAL ASSISTANCE TO THE LATE CONGOLESE (PRESIDENT LAURENT KABILA) WHO WAS ASSASSINATED BY HIS BODY GUARD ON 16TH JAN. 2001.\\n\\n\\nTHE INCIDENT OCCURRED IN OUR PRESENCE WHILE WE WERE HOLDING MEETING WITH HIS EXCELLENCY OVER THE FINANCIAL RETURNS FROM THE DIAMOND SALES IN THE AREAS CONTROLLED BY (D.R.C.) DEMOCRATIC REPUBLIC OF CONGO FORCES AND THEIR FOREIGN ALLIES ANGOLA AND ZIMBABWE, HAVING RECEIVED THE PREVIOUS DAY (USD$100M) ONE HUNDRED MILLION UNITED STATES DOLLARS, CASH IN THREE DIPLOMATIC BOXES ROUTED THROUGH ZIMBABWE.\\n\\nMY PURPOSE OF WRITING YOU THIS LETTER IS TO SOLICIT FOR YOUR ASSISTANCE AS TO BE A COVER TO THE FUND AND ALSO COLLABORATION IN MOVING THE SAID FUND INTO YOUR BANK ACCOUNT THE SUM OF (USD$25M) TWENTY FIVE MILLION UNITED STATES DOLLARS ONLY, WHICH I DEPOSITED WITH A SECURITY COMPANY IN GHANA, IN A DIPLOMATIC BOX AS GOLDS WORTH (USD$25M) TWENTY FIVE MILLION UNITED STATES DOLLARS ONLY FOR SAFE KEEPING IN A SECURITY VAULT FOR ANY FURTHER INVESTMENT PERHAPS IN YOUR COUNTRY. \\n\\nYOU WERE INTRODUCED TO ME BY A RELIABLE FRIEND OF MINE WHO IS A TRAVELLER,AND ALSO A MEMBER OF CHAMBER OF COMMERCE AS A RELIABLE AND TRUSTWORTHY PERSON WHOM I CAN RELY ON AS FOREIGN PARTNER, EVEN THOUGH THE NATURE OF THE TRANSACTION WAS NOT REVEALED TO HIM FOR SECURITY REASONS.\\n\\n\\nTHE (USD$25M) WAS PART OF A PROCEEDS FROM DIAMOND TRADE MEANT FOR THE LATE PRESIDENT LAURENT KABILA WHICH WAS DELIVERED THROUGH ZIMBABWE IN DIPLOMATIC BOXES. THE BOXES WERE KEPT UNDER MY CUSTODY BEFORE THE SAD EVENT THAT TOOK THE LIFE OF (MR. PRESIDENT).THE CONFUSION THAT ENSUED AFTER THE ASSASSINATION AND THE SPORADIC SHOOTING AMONG THE FACTIONS, I HAVE TO RUN AWAY FROM THE COUNTRY FOR MY DEAR LIFE AS I AM NOT A SOLDIER BUT A CIVIL SERVANT I CROSSED RIVER CONGO TO OTHER SIDE OF CONGO LIBREVILLE FROM THERE I MOVED TO THE THIRD COUNTRY GHANA WHERE I AM PRESENTLY TAKING REFUGE. \\n\\nAS A MATTER OF FACT, WHAT I URGENTLY NEEDED FROM YOU IS YOUR ASSISTANCE IN MOVING THIS MONEY INTO YOUR ACCOUNT IN YOUR COUNTRY FOR INVESTMENT WITHOUT RAISING EYEBROW. FOR YOUR ASSISTANCE I WILL GIVE YOU 20% OF THE TOTAL SUM AS YOUR OWN SHARE WHEN THE MONEY GETS TO YOUR ACCOUNT, WHILE 75% WILL BE FOR ME, OF WHICH WITH YOUR KIND ADVICE I HOPE TO INVEST IN PROFITABLE VENTURE IN YOUR COUNTRY IN OTHER TO SETTLE DOWN FOR MEANINGFUL LIFE, AS I AM TIRED OF LIVING IN A WAR ENVIRONMENT. \\n\\nTHE REMAINING 5% WILL BE USED TO OFFSET ANY COST INCURRED IN THE CAUSE OF MOVING THE MONEY TO YOUR ACCOUNT. IF THE PROPOSAL IS ACCEPTABLE TO YOU PLEASE CONTACT ME IMMEDIATELY THROUGH THE ABOVE TELEPHONE AND E-MAIL, TO ENABLE ME ARRANGE FACE TO FACE MEETING WITH YOU IN GHANA FOR THE CLEARANCE OF THE FUNDS BEFORE TRANSFRING IT TO YOUR BANK ACCOUNT AS SEEING IS BELIEVING. \\n\\nFINALLY, IT IS IMPORTANT ALSO THAT I LET YOU UNDERSTAND THAT THERE IS NO RISK INVOLVED WHATSOEVER AS THE MONEY HAD NO RECORD IN KINSHASA FOR IT WAS MEANT FOR THE PERSONAL USE OF (MR. PRESIDEND ) BEFORE THE NEFARIOUS INCIDENT OCCURRED, AND ALSO I HAVE ALL THE NECESSARY DOCUMENTS AS REGARDS TO THE FUNDS INCLUDING THE (CERTIFICATE OF DEPOSIT), AS I AM THE DEPOSITOR OF THE CONSIGNMENT.\\n\\n\\nLOOKING FORWARD TO YOUR URGENT RESPONSE.\\n\\nYOUR SINCERELY,\\n\\nMR. JAMES NGOLA. \\n\\n\\n\\n\\n\\n\\n\\n\\n\\n\\nFrom r  Thu Oct 31 08:11:39 2002\\nReturn-Path: <bensul2004nng@spinfinder.com>\\nX-Sieve: cmu-sieve 2.0\\nReturn-Path: <bensul2004nng@spinfinder.com>\\nMessage-Id: <200210311310.g9VDANt24674@bloodwork.mr.itd.UM>\\nFrom: \"Mr. Ben Suleman\" <bensul2004nng@spinfinder.com>\\nDate: Thu, 31 Oct 2002 05:10:00\\nTo: R@M\\nSubject: URGENT ASSISTANCE /RELATIONSHIP (P)\\nMIME-Version: 1.0\\nContent-Type: text/plain;charset=\"iso-8859-1\"\\nContent-Transfer-Encoding: 7bit\\nStatus: O\\n\\nDear Friend,\\n\\nI am Mr. Ben Suleman a custom officer and work as Assistant controller of the Customs and Excise department Of the Federal Ministry of Internal Affairs stationed at the Murtala Mohammed International Airport, Ikeja, Lagos-Nigeria.\\n\\nAfter the sudden death of the former Head of state of Nigeria General Sanni Abacha on June 8th 1998 his aides and immediate members of his family were arrested while trying to escape from Nigeria in a Chartered jet to Saudi Arabia with 6 trunk boxes Marked \"Diplomatic Baggage\". Acting on a tip-off as they attempted to board the Air Craft,my officials carried out a thorough search on the air craft and discovered that the 6 trunk boxes contained foreign currencies amounting to US$197,570,000.00(One Hundred and  Ninety-Seven Million Five Hundred Seventy Thousand United States Dollars).\\n\\nI declared only (5) five boxes to the government and withheld one (1) in my custody containing the sum of (US$30,000,000.00) Thirty Million United States Dollars Only, which has been disguised to prevent their being discovered during transportation process.Due to several media reports on the late head of state about all the money him and his co-government officials stole from our government treasury amounting\\nto US$55 Billion Dollars (ref:ngrguardiannews.com) of July 2nd 1999. Even the London times of July 1998 reported that General Abacha has over US$3.Billion dollars in one account overseas. We decided to conceal this one (1)box till the situation is calm and quite on the issue. The box was thus deposited with a security company here in Nigeria and tagged as \"Precious Stones and Jewellry\" in other that its\\ncontent will not be discovered. Now that all is calm, we (myself and two of my colleagues in the operations team) are now ready to move this box out of the country through a diplomatic arrangement which is the safest means. \\n\\nHowever as government officials the Civil Service Code of Conduct does not allow us by law to operate any foreign account or own foreign investment and the amount of money that can be found in our account\\ncannot be more than our salary on the average, thus our handicapp and our need for your assistance to help collect and keep safely in your account this money.\\n\\nTherefore we want you to assist us in moving this money out of Nigeria. We shall definitely compensate you handsomely for the assistance. We can do this by instructing the Security Company here in Nigeria to\\nmove the consignment to their affiliate branch office outside Nigeria through diplomatic means and the consignment will be termed as Precious Stones and Jewelleries\" which you bought during your visit to Nigeria and is being transfered to your country from here for safe keeping. Then we can arrange to meet at the destination country to take the delivery of the consignment. You will thereafter open an account there and lodge the Money there and gradually instruct remittance to your Country. \\n\\nThis business is 100% risk free for you so please treat this matter with utmost confidentiality .If you indicate your interest to assist us please just e-mail me for more Explanation on how we plan to execute the transaction.\\n\\nExpecting your response urgently.\\n\\nBest regards,\\n\\nMr. Ben Suleman\\n\\nFrom r  Thu Oct 31 17:27:16 2002\\nReturn-Path: <obong_715@epatra.com>\\nX-Sieve: cmu-sieve 2.0\\nReturn-Path: <obong_715@epatra.com>\\nMessage-Id: <200210312227.g9VMQvDj017948@bluewhale.cs.CU>\\nFrom: \"PRINCE OBONG ELEME\" <obong_715@epatra.com>\\nReply-To: obong_715@epatra.com\\nTo: webmaster@aclweb.org\\nDate: Thu, 31 Oct 2002 22:17:55 +0100\\nSubject: GOOD DAY TO YOU\\nX-Mailer: Microsoft Outlook Express 5.00.2919.6900DM\\nMIME-Version: 1.0\\nContent-Type: text/plain; charset=\"us-ascii\"\\nContent-Transfer-Encoding: 8bit\\nX-MIME-Autoconverted: from quoted-printable to 8bit by sideshowmel.si.UM id g9VMRBW20642\\nStatus: RO\\n\\nFROM HIS ROYAL MAJESTY (HRM) CROWN RULER OF ELEME KINGDOM \\nCHIEF DANIEL ELEME, PHD, EZE 1 OF ELEME.E-MAIL \\nADDRESS:obong_715@epatra.com  \\n\\nATTENTION:PRESIDENT,CEO Sir/ Madam. \\n\\nThis letter might surprise you because we have met\\nneither in person nor by correspondence. But I believe\\nit is one day that you got to know somebody either in\\nphysical or through correspondence. \\n\\nI got your contact through discreet inquiry from the\\nchambers of commerce and industry of your country on\\nthe net, you and your organization were revealed as\\nbeing quite astute in private entrepreneurship, one\\nhas no doubt in your ability to handle a financialbusiness transaction. \\n\\nHowever, I am the first son of His Royal\\nmajesty,Obong.D. Eleme , and the traditional Ruler of\\nEleme Province in the oil producing area of River\\nState of Nigeria. I am making this contact to you in\\nrespect of US$60,000,000.00 (Sixty Million United\\nState Dollars), which I inherited, from my latefather. \\n\\nThis money was accumulated from royalties paid to my\\nfather as compensation by the oil firms located in our\\narea as a result of oil presence on our land, which\\nhamper agriculture, which is our major source oflivelihood. \\n\\nUnfortunately my father died from protracted\\ndiabetes.But before his death he called my attention\\nand informed me that he lodged some funds on a two\\nboxes with a security firm with an open beneficiary\\nstatus. The lodgment security code number was also\\nrevealed to me, he then advised me to look for a\\nreliable business partner abroad, that will assist me\\nin investing the money in a lucrative business as a\\nresult of economic instability in Nigeria. So this is\\nthe main reason why I am contacting you for us to move\\nthis money from the security firm to any Country of\\nyour choice for investment purpose. \\n\\nSo I will like you to be the ultimate beneficiary, so\\nthat the funds can be moved in your name and\\nparticulars to any Country of your choice where it\\nwill be claimed and invested. Hence my father have had\\nintimated the security firm personnel that the\\nbeneficiary of the box is his foreign partner whose\\nparticulars will be forwarded to the firm when due. \\n\\nBut I will guide you Accordingly. As soon as the funds\\nreach, I will then come over to meet you in person, so\\nthat we can discuss physically on investment\\npotentials. Based on this assistance my Family and I\\nhave unanimously decided to give you 30% of the total\\nmoney, 5% for Charity home, 10% for expenses, which\\nmay arise during this transaction, Fax and phone bills\\ninclusive. The balance of 55% you will invest andmanaged for my Family. \\n\\nI hereby guarantee you that this is not government\\nmoney, it is not drug money and it is not money from\\narms deal. Though you have to maintain high degree of\\nconfidentiality on this matter. I will give more\\ndetails about the proceedings of this transaction as\\nsoon as I receive your favorable reply. \\n\\nPlease reply to my Email Address:obong_715@epatra.com\\nI hope this will be the beginning of a prosperous\\nrelationship between my family and your family. \\n\\nNevertheless if you are for any reason not interested,\\nkindly inform me immediately so that I will look foranother contact. \\n\\nI am waiting for your quick response. \\n\\nYours faithfully, \\n\\nPrince Obong Abbot \\n'"
            ]
          },
          "metadata": {
            "tags": []
          },
          "execution_count": 3
        }
      ]
    },
    {
      "cell_type": "markdown",
      "metadata": {
        "id": "aUg8HenSBLG2"
      },
      "source": [
        "### 讀取寄件者資訊\n",
        "觀察文本資料可以發現, 寄件者資訊都符合以下格式\n",
        "\n",
        "`From: <收件者姓名> <收件者電子郵件>`"
      ]
    },
    {
      "cell_type": "code",
      "metadata": {
        "id": "YgsUuHsfBLG2"
      },
      "source": [
        "import re\n",
        "\n",
        "pattern = r\"From:.*\"\n",
        "match = re.findall(pattern, sample_corpus)"
      ],
      "execution_count": null,
      "outputs": []
    },
    {
      "cell_type": "code",
      "metadata": {
        "id": "pofRrOGhBLG5",
        "colab": {
          "base_uri": "https://localhost:8080/"
        },
        "outputId": "accf5c37-8467-44ef-9b38-d1ffa3786453"
      },
      "source": [
        "match"
      ],
      "execution_count": null,
      "outputs": [
        {
          "output_type": "execute_result",
          "data": {
            "text/plain": [
              "['From: \"MR. JAMES NGOLA.\" <james_ngola2002@maktoob.com>',\n",
              " 'From: \"Mr. Ben Suleman\" <bensul2004nng@spinfinder.com>',\n",
              " 'From: \"PRINCE OBONG ELEME\" <obong_715@epatra.com>']"
            ]
          },
          "metadata": {
            "tags": []
          },
          "execution_count": 8
        }
      ]
    },
    {
      "cell_type": "markdown",
      "metadata": {
        "id": "Ac8KHAqTBLG7"
      },
      "source": [
        "### 只讀取寄件者姓名"
      ]
    },
    {
      "cell_type": "code",
      "metadata": {
        "id": "coBDE2iBBLG8",
        "colab": {
          "base_uri": "https://localhost:8080/"
        },
        "outputId": "91bf73be-d045-40ea-e8a8-3fe3695ac9ec"
      },
      "source": [
        "#<your code>#\n",
        "\n",
        "pattern = r'\\\".*\\\"'\n",
        "\n",
        "for info in match:\n",
        "    print(re.search(pattern, info).group())"
      ],
      "execution_count": null,
      "outputs": [
        {
          "output_type": "stream",
          "text": [
            "\"MR. JAMES NGOLA.\"\n",
            "\"Mr. Ben Suleman\"\n",
            "\"PRINCE OBONG ELEME\"\n"
          ],
          "name": "stdout"
        }
      ]
    },
    {
      "cell_type": "markdown",
      "metadata": {
        "id": "gaJefecaBLG-"
      },
      "source": [
        "### 只讀取寄件者電子信箱"
      ]
    },
    {
      "cell_type": "code",
      "metadata": {
        "id": "G55ADKW_BLG_",
        "colab": {
          "base_uri": "https://localhost:8080/"
        },
        "outputId": "c1727b7c-3682-47de-984f-2ef2acee1746"
      },
      "source": [
        "#<your code>#\n",
        "\n",
        "pattern = r\"\\<.*\\>\"\n",
        "pattern = r'\\w\\S*@.*\\b' #\\b 是因為結尾一定為com\n",
        "\n",
        "for info in match:\n",
        "    print(re.search(pattern, info).group())"
      ],
      "execution_count": null,
      "outputs": [
        {
          "output_type": "stream",
          "text": [
            "james_ngola2002@maktoob.com\n",
            "bensul2004nng@spinfinder.com\n",
            "obong_715@epatra.com\n"
          ],
          "name": "stdout"
        }
      ]
    },
    {
      "cell_type": "markdown",
      "metadata": {
        "id": "t-RXjNLiBLHC"
      },
      "source": [
        "### 只讀取電子信箱中的寄件機構資訊\n",
        "ex: james_ngola2002@maktoob.com --> 取maktoob"
      ]
    },
    {
      "cell_type": "code",
      "metadata": {
        "id": "qC2Sd6_SBLHC",
        "colab": {
          "base_uri": "https://localhost:8080/"
        },
        "outputId": "7af862a5-04bc-47cc-bd18-07186e01f393"
      },
      "source": [
        "#<your code>#\n",
        "\n",
        "pattern = r'(?<=@)\\w\\S*(?=\\.)' \n",
        "\n",
        "for info in match:\n",
        "    print(re.search(pattern, info).group())"
      ],
      "execution_count": null,
      "outputs": [
        {
          "output_type": "stream",
          "text": [
            "maktoob\n",
            "spinfinder\n",
            "epatra\n"
          ],
          "name": "stdout"
        }
      ]
    },
    {
      "cell_type": "markdown",
      "metadata": {
        "id": "vfzkuLCWBLHG"
      },
      "source": [
        "### 結合上面的配對方式, 將寄件者的帳號與機構訊返回\n",
        "ex: james_ngola2002@maktoob.com --> [james_ngola2002, maktoob]"
      ]
    },
    {
      "cell_type": "code",
      "metadata": {
        "id": "t3lTRThcBLHG",
        "colab": {
          "base_uri": "https://localhost:8080/"
        },
        "outputId": "b132d19d-302e-461b-912a-eeb16c488a2d"
      },
      "source": [
        "#<your code>#\n",
        "\n",
        "address = re.findall(r'From:.*', sample_corpus)\n",
        "address\n",
        "\n",
        "for ad in address:\n",
        "  for line in re.findall(r'\\w\\S*@.*(?=\\.)', ad):\n",
        "    username, domain_name = re.split(\"@\", line)\n",
        "    print(\"{}, {}\".format(username, domain_name))"
      ],
      "execution_count": null,
      "outputs": [
        {
          "output_type": "stream",
          "text": [
            "james_ngola2002, maktoob\n",
            "bensul2004nng, spinfinder\n",
            "obong_715, epatra\n"
          ],
          "name": "stdout"
        }
      ]
    },
    {
      "cell_type": "markdown",
      "metadata": {
        "id": "Yl-BMduNBLHJ"
      },
      "source": [
        "### 使用正規表達式對email資料進行處理\n",
        "這裡我們會使用到python其他的套件協助處理(ex: pandas, email, etc)，這裡我們只需要專注在正規表達式上即可，其他的套件是方便我們整理與處理資料。"
      ]
    },
    {
      "cell_type": "markdown",
      "metadata": {
        "id": "kqCacQ9tBLHJ"
      },
      "source": [
        "### 讀取與切分Email\n",
        "讀入的email為一個長字串，利用正規表達式切割讀入的資料成一封一封的email，並將結果以list表示。\n",
        "\n",
        "輸出: [email_1, email_2, email_3, ....]"
      ]
    },
    {
      "cell_type": "code",
      "metadata": {
        "colab": {
          "resources": {
            "http://localhost:8080/nbextensions/google.colab/files.js": {
              "data": "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",
              "ok": true,
              "headers": [
                [
                  "content-type",
                  "application/javascript"
                ]
              ],
              "status": 200,
              "status_text": ""
            }
          },
          "base_uri": "https://localhost:8080/",
          "height": 76
        },
        "id": "9Y5P-T5A3RDW",
        "outputId": "52537eee-8c57-47bf-8c10-9b9589c76264"
      },
      "source": [
        "#讀取文本資料\n",
        "from google.colab import files\n",
        "# 上傳CSV\n",
        "uploaded = files.upload()"
      ],
      "execution_count": null,
      "outputs": [
        {
          "output_type": "display_data",
          "data": {
            "text/html": [
              "\n",
              "     <input type=\"file\" id=\"files-27129e47-2917-447c-8a00-584e6bcd3d5b\" name=\"files[]\" multiple disabled\n",
              "        style=\"border:none\" />\n",
              "     <output id=\"result-27129e47-2917-447c-8a00-584e6bcd3d5b\">\n",
              "      Upload widget is only available when the cell has been executed in the\n",
              "      current browser session. Please rerun this cell to enable.\n",
              "      </output>\n",
              "      <script src=\"/nbextensions/google.colab/files.js\"></script> "
            ],
            "text/plain": [
              "<IPython.core.display.HTML object>"
            ]
          },
          "metadata": {
            "tags": []
          }
        },
        {
          "output_type": "stream",
          "text": [
            "Saving all_emails.txt to all_emails.txt\n"
          ],
          "name": "stdout"
        }
      ]
    },
    {
      "cell_type": "code",
      "metadata": {
        "id": "k9BCVTqoBLHK",
        "colab": {
          "base_uri": "https://localhost:8080/"
        },
        "outputId": "ded914a6-f592-42fa-c83c-4f977e51f603"
      },
      "source": [
        "import re\n",
        "import pandas as pd\n",
        "import email\n",
        "\n",
        "###讀取文本資料:fradulent_emails.txt###\n",
        "with open('all_emails.txt', 'r', encoding=\"utf8\", errors='ignore') as f:\n",
        "    corpus = f.read()\n",
        "\n",
        "###切割讀入的資料成一封一封的email###\n",
        "\n",
        "###我們可以使用list來儲存每一封email###\n",
        "\n",
        "###注意！這裡請仔細觀察sample資料，看資料是如何切分不同email###\n",
        "\n",
        "#<your code>#\n",
        "emails = re.split(r\"From r\", corpus, flags=re.M)\n",
        "emails = emails[1:] #移除第一項的空元素\n",
        "\n",
        "\n",
        "len(emails) #查看有多少封email"
      ],
      "execution_count": null,
      "outputs": [
        {
          "output_type": "execute_result",
          "data": {
            "text/plain": [
              "3977"
            ]
          },
          "metadata": {
            "tags": []
          },
          "execution_count": 31
        }
      ]
    },
    {
      "cell_type": "markdown",
      "metadata": {
        "id": "e9IN-2o0BLHM"
      },
      "source": [
        "### 從文本中擷取所有寄件者與收件者的姓名和地址"
      ]
    },
    {
      "cell_type": "code",
      "metadata": {
        "id": "d_WRYFpcBLHM"
      },
      "source": [
        "emails_list = [] #創建空list來儲存所有email資訊\n",
        "\n",
        "for mail in emails[:20]: #只取前20筆資料 (處理速度比較快)\n",
        "    emails_dict = dict() #創建空字典儲存資訊\n",
        "    ###取的寄件者姓名與地址###\n",
        "    \n",
        "    #Step1: 取的寄件者資訊 (hint: From:)\n",
        "    #<your code>#\n",
        "    sender = re.search(r\"From:.*\", mail)\n",
        "\n",
        "    #Step2: 取的姓名與地址 (hint: 要注意有時會有沒取到配對的情況)\n",
        "    #<your code>#\n",
        "    if sender is not None: #有取到配對\n",
        "        sender_mail = re.search(r\"\\w\\S*@.*\\b\", sender.group())\n",
        "        sender_name = re.search(r\"(?<=\\\").*(?=\\\")\", sender.group())\n",
        "    else: #沒取到配對\n",
        "        sender_mail = None\n",
        "        sender_name = None\n",
        "    #Step3: 將取得的姓名與地址存入字典中\n",
        "    #<your code>#\n",
        "    if sender_mail is not None:\n",
        "        emails_dict[\"sender_email\"] = sender_mail.group()\n",
        "    else:\n",
        "        emails_dict[\"sender_email\"] = sender_mail #None\n",
        "    \n",
        "    if sender_name is not None:\n",
        "        emails_dict[\"sender_name\"] = sender_name.group()\n",
        "    else:\n",
        "        emails_dict[\"sender_name\"] = sender_name #None\n",
        "    \n",
        "    ###取的收件者姓名與地址###\n",
        "    #Step1: 取的寄件者資訊 (hint: To:)\n",
        "    #<your code>#\n",
        "    recipient = re.search(r\"To:.*\", mail)\n",
        "\n",
        "    #Step2: 取的姓名與地址 (hint: 要注意有時會有沒取到配對的情況)\n",
        "    #<your code>#\n",
        "    if recipient is not None:\n",
        "        r_email = re.search(r\"\\w\\S*@.*\\b\", recipient.group())\n",
        "        r_name = re.search(r\"(?<=\\\").*(?=\\\")\", recipient.group())\n",
        "    else:\n",
        "        r_email = None\n",
        "        r_name = None\n",
        "    #Step3: 將取得的姓名與地址存入字典中\n",
        "    #<your code>#\n",
        "    if r_email is not None:\n",
        "        emails_dict[\"recipient_email\"] = r_email.group()\n",
        "    else:\n",
        "        emails_dict[\"recipient_email\"] = r_email #None\n",
        "    \n",
        "    if r_name is not None:\n",
        "        emails_dict[\"recipient_name\"] = r_name.group()\n",
        "    else:\n",
        "        emails_dict[\"recipient_name\"] = r_name #None    \n",
        "        \n",
        "    ###取得信件日期###\n",
        "    #Step1: 取得日期資訊 (hint: To:)\n",
        "    date_info = re.search(r\"Date:.*\", mail)\n",
        "    \n",
        "    #Step2: 取得詳細日期(只需取得DD MMM YYYY)\n",
        "    if date_info is not None:\n",
        "        date = re.search(r\"\\d+\\s\\w+\\s\\d+\", date_info.group())\n",
        "    else:\n",
        "        date = None\n",
        "        \n",
        "    #Step3: 將取得的日期資訊存入字典中\n",
        "    if date is not None:\n",
        "        emails_dict[\"date_sent\"] = date.group()\n",
        "    else:\n",
        "        emails_dict[\"date_sent\"] = date\n",
        "        \n",
        "        \n",
        "    ###取得信件主旨###\n",
        "    #Step1: 取得主旨資訊 (hint: Subject:)\n",
        "    subject_info = re.search(r\"Subject: .*\", mail)\n",
        "    \n",
        "    #Step2: 移除不必要文字 (hint: Subject: )\n",
        "    if subject_info is not None:\n",
        "        subject = re.sub(r\"Subject: \", \"\", subject_info.group())\n",
        "    else:\n",
        "        subject = None\n",
        "    \n",
        "    #Step3: 將取得的主旨存入字典中\n",
        "    emails_dict[\"subject\"] = subject\n",
        "    \n",
        "    \n",
        "    ###取得信件內文###\n",
        "    #這裡我們使用email package來取出email內文 (可以不需深究，本章節重點在正規表達式)\n",
        "    try:\n",
        "        full_email = email.message_from_string(mail)\n",
        "        body = full_email.get_payload()\n",
        "        emails_dict[\"email_body\"] = body\n",
        "    except:\n",
        "        emails_dict[\"email_body\"] = None\n",
        "    \n",
        "    ###將字典加入list###\n",
        "    emails_list.append(emails_dict)"
      ],
      "execution_count": null,
      "outputs": []
    },
    {
      "cell_type": "code",
      "metadata": {
        "id": "CBfQRiYPBLHP",
        "colab": {
          "base_uri": "https://localhost:8080/",
          "height": 1000
        },
        "outputId": "050c36ab-5e41-4efc-cdda-c8020fc2eeb5"
      },
      "source": [
        "#將處理結果轉化為dataframe\n",
        "emails_df = pd.DataFrame(emails_list)\n",
        "emails_df"
      ],
      "execution_count": null,
      "outputs": [
        {
          "output_type": "execute_result",
          "data": {
            "text/html": [
              "<div>\n",
              "<style scoped>\n",
              "    .dataframe tbody tr th:only-of-type {\n",
              "        vertical-align: middle;\n",
              "    }\n",
              "\n",
              "    .dataframe tbody tr th {\n",
              "        vertical-align: top;\n",
              "    }\n",
              "\n",
              "    .dataframe thead th {\n",
              "        text-align: right;\n",
              "    }\n",
              "</style>\n",
              "<table border=\"1\" class=\"dataframe\">\n",
              "  <thead>\n",
              "    <tr style=\"text-align: right;\">\n",
              "      <th></th>\n",
              "      <th>sender_email</th>\n",
              "      <th>sender_name</th>\n",
              "      <th>recipient_email</th>\n",
              "      <th>recipient_name</th>\n",
              "      <th>date_sent</th>\n",
              "      <th>subject</th>\n",
              "      <th>email_body</th>\n",
              "    </tr>\n",
              "  </thead>\n",
              "  <tbody>\n",
              "    <tr>\n",
              "      <th>0</th>\n",
              "      <td>james_ngola2002@maktoob.com</td>\n",
              "      <td>MR. JAMES NGOLA.</td>\n",
              "      <td>james_ngola2002@maktoob.com</td>\n",
              "      <td>None</td>\n",
              "      <td>31 Oct 2002</td>\n",
              "      <td>URGENT BUSINESS ASSISTANCE AND PARTNERSHIP</td>\n",
              "      <td>FROM:MR. JAMES NGOLA.\\nCONFIDENTIAL TEL: 233-2...</td>\n",
              "    </tr>\n",
              "    <tr>\n",
              "      <th>1</th>\n",
              "      <td>bensul2004nng@spinfinder.com</td>\n",
              "      <td>Mr. Ben Suleman</td>\n",
              "      <td>R@M</td>\n",
              "      <td>None</td>\n",
              "      <td>31 Oct 2002</td>\n",
              "      <td>URGENT ASSISTANCE /RELATIONSHIP (P)</td>\n",
              "      <td>Dear Friend,\\n\\nI am Mr. Ben Suleman a custom ...</td>\n",
              "    </tr>\n",
              "    <tr>\n",
              "      <th>2</th>\n",
              "      <td>obong_715@epatra.com</td>\n",
              "      <td>PRINCE OBONG ELEME</td>\n",
              "      <td>obong_715@epatra.com</td>\n",
              "      <td>None</td>\n",
              "      <td>31 Oct 2002</td>\n",
              "      <td>GOOD DAY TO YOU</td>\n",
              "      <td>FROM HIS ROYAL MAJESTY (HRM) CROWN RULER OF EL...</td>\n",
              "    </tr>\n",
              "    <tr>\n",
              "      <th>3</th>\n",
              "      <td>obong_715@epatra.com</td>\n",
              "      <td>PRINCE OBONG ELEME</td>\n",
              "      <td>webmaster@aclweb.org</td>\n",
              "      <td>None</td>\n",
              "      <td>31 Oct 2002</td>\n",
              "      <td>GOOD DAY TO YOU</td>\n",
              "      <td>FROM HIS ROYAL MAJESTY (HRM) CROWN RULER OF EL...</td>\n",
              "    </tr>\n",
              "    <tr>\n",
              "      <th>4</th>\n",
              "      <td>m_abacha03@www.com</td>\n",
              "      <td>Maryam Abacha</td>\n",
              "      <td>m_abacha03@www.com</td>\n",
              "      <td>None</td>\n",
              "      <td>1 Nov 2002</td>\n",
              "      <td>I Need Your Assistance.</td>\n",
              "      <td>Dear sir, \\n \\nIt is with a heart full of hope...</td>\n",
              "    </tr>\n",
              "    <tr>\n",
              "      <th>5</th>\n",
              "      <td>davidkuta@postmark.net</td>\n",
              "      <td>None</td>\n",
              "      <td>davidkuta@yahoo.com</td>\n",
              "      <td>None</td>\n",
              "      <td>02 Nov 2002</td>\n",
              "      <td>Partnership</td>\n",
              "      <td>ATTENTION:                                    ...</td>\n",
              "    </tr>\n",
              "    <tr>\n",
              "      <th>6</th>\n",
              "      <td>tunde_dosumu@lycos.com</td>\n",
              "      <td>Barrister tunde dosumu</td>\n",
              "      <td>tunde_dosumu@lycos.com</td>\n",
              "      <td>None</td>\n",
              "      <td>None</td>\n",
              "      <td>Urgent Attention</td>\n",
              "      <td>Dear Sir,\\n\\nI am Barrister Tunde Dosumu (SAN)...</td>\n",
              "    </tr>\n",
              "    <tr>\n",
              "      <th>7</th>\n",
              "      <td>william2244drallo@maktoob.com</td>\n",
              "      <td>William Drallo</td>\n",
              "      <td>william2244drallo@maktoob.com</td>\n",
              "      <td>None</td>\n",
              "      <td>3 Nov 2002</td>\n",
              "      <td>URGENT BUSINESS PRPOSAL</td>\n",
              "      <td>FROM: WILLIAM DRALLO.\\nCONFIDENTIAL TEL: 233-2...</td>\n",
              "    </tr>\n",
              "    <tr>\n",
              "      <th>8</th>\n",
              "      <td>abdul_817@rediffmail.com</td>\n",
              "      <td>MR USMAN ABDUL</td>\n",
              "      <td>R@M</td>\n",
              "      <td>None</td>\n",
              "      <td>04 Nov 2002</td>\n",
              "      <td>THANK YOU</td>\n",
              "      <td>CHALLENGE SECURITIES LTD.\\nLAGOS, NIGERIA\\n\\n\\...</td>\n",
              "    </tr>\n",
              "    <tr>\n",
              "      <th>9</th>\n",
              "      <td>barrister_td@lycos.com</td>\n",
              "      <td>Tunde  Dosumu</td>\n",
              "      <td>barrister_td@lycos.com</td>\n",
              "      <td>None</td>\n",
              "      <td>None</td>\n",
              "      <td>Urgent Assistance</td>\n",
              "      <td>Dear Sir,\\n\\nI am Barrister Tunde Dosumu (SAN)...</td>\n",
              "    </tr>\n",
              "    <tr>\n",
              "      <th>10</th>\n",
              "      <td>temijohnson2@rediffmail.com</td>\n",
              "      <td>None</td>\n",
              "      <td>R@E</td>\n",
              "      <td>None</td>\n",
              "      <td>6 Nov 2001</td>\n",
              "      <td>IMPORTANT</td>\n",
              "      <td>FROM: MR TEMI JOHNSON\\nDEMOCRATIC REPUBLIC OF ...</td>\n",
              "    </tr>\n",
              "    <tr>\n",
              "      <th>11</th>\n",
              "      <td>sjordan@diplomats.com</td>\n",
              "      <td>Dr.Sam jordan</td>\n",
              "      <td>R@M</td>\n",
              "      <td>None</td>\n",
              "      <td>08 Nov 2002</td>\n",
              "      <td>URGENT ASSISTANCE.</td>\n",
              "      <td>FROM THE DESK OF DR.SAM JORDAN\\nTHE MANAGER\\nH...</td>\n",
              "    </tr>\n",
              "    <tr>\n",
              "      <th>12</th>\n",
              "      <td>p_brown2@lawyer.com</td>\n",
              "      <td>None</td>\n",
              "      <td>p_brown2@lawyer.com</td>\n",
              "      <td>None</td>\n",
              "      <td>8 Nov 2002</td>\n",
              "      <td>From: Barrister Peter Brown</td>\n",
              "      <td>\\nSENIOR ADVOCATE OF NIGERIA\\nBARR. PETER BROW...</td>\n",
              "    </tr>\n",
              "    <tr>\n",
              "      <th>13</th>\n",
              "      <td>mic_k1@post.com</td>\n",
              "      <td>None</td>\n",
              "      <td>R@M</td>\n",
              "      <td>None</td>\n",
              "      <td>11 Nov 2002</td>\n",
              "      <td>MICHAEL</td>\n",
              "      <td>From;Mr.Michael Kamah and Family,\\n          J...</td>\n",
              "    </tr>\n",
              "    <tr>\n",
              "      <th>14</th>\n",
              "      <td>mikebunduu1@rediffmail.com</td>\n",
              "      <td>COL. MICHAEL BUNDU</td>\n",
              "      <td>R@E</td>\n",
              "      <td>None</td>\n",
              "      <td>13 Nov 2001</td>\n",
              "      <td>*****SPAM***** IMPORTANT</td>\n",
              "      <td>FROM: COL. MICHAEL BUNDU. \\nDEMOCRATIC REPUBLI...</td>\n",
              "    </tr>\n",
              "    <tr>\n",
              "      <th>15</th>\n",
              "      <td>elixwilliam@usa.com</td>\n",
              "      <td>MRS MARIAM ABACHA</td>\n",
              "      <td>presidentwifeng@indiatimes.com</td>\n",
              "      <td>None</td>\n",
              "      <td>14 Nov 2002</td>\n",
              "      <td>TRUST TRANSACTION</td>\n",
              "      <td>Dear Sir,\\n\\nA Very Good day to you   \\n\\nI am...</td>\n",
              "    </tr>\n",
              "    <tr>\n",
              "      <th>16</th>\n",
              "      <td>anayoawka@hotmail.com</td>\n",
              "      <td>DR. ANAYO AWKA</td>\n",
              "      <td>webmaster@aclweb.org</td>\n",
              "      <td>None</td>\n",
              "      <td>15 Nov 2002</td>\n",
              "      <td>REQUEST FOR YOUR UNRESERVED ASSISTANCE</td>\n",
              "      <td>FROM: DR. ANAYO AWKA BANK MANAGER \\n(UNION BAN...</td>\n",
              "    </tr>\n",
              "    <tr>\n",
              "      <th>17</th>\n",
              "      <td>anayoawka@hotmail.com</td>\n",
              "      <td>DR. ANAYO AWKA</td>\n",
              "      <td>webmaster@aclweb.org</td>\n",
              "      <td>None</td>\n",
              "      <td>15 Nov 2002</td>\n",
              "      <td>REQUEST FOR YOUR UNRESERVED ASSISTANCE</td>\n",
              "      <td>FROM: DR. ANAYO AWKA BANK MANAGER \\n(UNION BAN...</td>\n",
              "    </tr>\n",
              "    <tr>\n",
              "      <th>18</th>\n",
              "      <td>victorloma@netscape.net</td>\n",
              "      <td>Victor Aloma</td>\n",
              "      <td>ntcir-listmem@newns.op.nii.ac.jp</td>\n",
              "      <td>None</td>\n",
              "      <td>16 Nov 2002</td>\n",
              "      <td>Urgent Assistance</td>\n",
              "      <td>The Director,\\n\\n\\n\\n            SEEKING FOR I...</td>\n",
              "    </tr>\n",
              "    <tr>\n",
              "      <th>19</th>\n",
              "      <td>victorloma@netscape.net</td>\n",
              "      <td>Victor Aloma</td>\n",
              "      <td>ntcir-outgoing@mail.op.nii.ac.jp</td>\n",
              "      <td>None</td>\n",
              "      <td>16 Nov 2002</td>\n",
              "      <td>Urgent Assistance</td>\n",
              "      <td>The Director,\\n\\n\\n\\n            SEEKING FOR I...</td>\n",
              "    </tr>\n",
              "  </tbody>\n",
              "</table>\n",
              "</div>"
            ],
            "text/plain": [
              "                     sender_email  ...                                         email_body\n",
              "0     james_ngola2002@maktoob.com  ...  FROM:MR. JAMES NGOLA.\\nCONFIDENTIAL TEL: 233-2...\n",
              "1    bensul2004nng@spinfinder.com  ...  Dear Friend,\\n\\nI am Mr. Ben Suleman a custom ...\n",
              "2            obong_715@epatra.com  ...  FROM HIS ROYAL MAJESTY (HRM) CROWN RULER OF EL...\n",
              "3            obong_715@epatra.com  ...  FROM HIS ROYAL MAJESTY (HRM) CROWN RULER OF EL...\n",
              "4              m_abacha03@www.com  ...  Dear sir, \\n \\nIt is with a heart full of hope...\n",
              "5          davidkuta@postmark.net  ...  ATTENTION:                                    ...\n",
              "6          tunde_dosumu@lycos.com  ...  Dear Sir,\\n\\nI am Barrister Tunde Dosumu (SAN)...\n",
              "7   william2244drallo@maktoob.com  ...  FROM: WILLIAM DRALLO.\\nCONFIDENTIAL TEL: 233-2...\n",
              "8        abdul_817@rediffmail.com  ...  CHALLENGE SECURITIES LTD.\\nLAGOS, NIGERIA\\n\\n\\...\n",
              "9          barrister_td@lycos.com  ...  Dear Sir,\\n\\nI am Barrister Tunde Dosumu (SAN)...\n",
              "10    temijohnson2@rediffmail.com  ...  FROM: MR TEMI JOHNSON\\nDEMOCRATIC REPUBLIC OF ...\n",
              "11          sjordan@diplomats.com  ...  FROM THE DESK OF DR.SAM JORDAN\\nTHE MANAGER\\nH...\n",
              "12            p_brown2@lawyer.com  ...  \\nSENIOR ADVOCATE OF NIGERIA\\nBARR. PETER BROW...\n",
              "13                mic_k1@post.com  ...  From;Mr.Michael Kamah and Family,\\n          J...\n",
              "14     mikebunduu1@rediffmail.com  ...  FROM: COL. MICHAEL BUNDU. \\nDEMOCRATIC REPUBLI...\n",
              "15            elixwilliam@usa.com  ...  Dear Sir,\\n\\nA Very Good day to you   \\n\\nI am...\n",
              "16          anayoawka@hotmail.com  ...  FROM: DR. ANAYO AWKA BANK MANAGER \\n(UNION BAN...\n",
              "17          anayoawka@hotmail.com  ...  FROM: DR. ANAYO AWKA BANK MANAGER \\n(UNION BAN...\n",
              "18        victorloma@netscape.net  ...  The Director,\\n\\n\\n\\n            SEEKING FOR I...\n",
              "19        victorloma@netscape.net  ...  The Director,\\n\\n\\n\\n            SEEKING FOR I...\n",
              "\n",
              "[20 rows x 7 columns]"
            ]
          },
          "metadata": {
            "tags": []
          },
          "execution_count": 33
        }
      ]
    }
  ]
}