{
  "nbformat": 4,
  "nbformat_minor": 0,
  "metadata": {
    "kernelspec": {
      "display_name": "Python 3",
      "language": "python",
      "name": "python3"
    },
    "language_info": {
      "codemirror_mode": {
        "name": "ipython",
        "version": 3
      },
      "file_extension": ".py",
      "mimetype": "text/x-python",
      "name": "python",
      "nbconvert_exporter": "python",
      "pygments_lexer": "ipython3",
      "version": "3.7.4"
    },
    "colab": {
      "name": "Day015- tfidf作業.ipynb",
      "provenance": [],
      "include_colab_link": true
    }
  },
  "cells": [
    {
      "cell_type": "markdown",
      "metadata": {
        "id": "view-in-github",
        "colab_type": "text"
      },
      "source": [
        "<a href=\"https://colab.research.google.com/github/ryowei/1st-NLP-marathon/blob/main/Day015_tfidf%E4%BD%9C%E6%A5%AD.ipynb\" target=\"_parent\"><img src=\"https://colab.research.google.com/assets/colab-badge.svg\" alt=\"Open In Colab\"/></a>"
      ]
    },
    {
      "cell_type": "markdown",
      "metadata": {
        "id": "UIW9qvk22Obk"
      },
      "source": [
        "## 作業目標：搭建一個TFIDF 模型"
      ]
    },
    {
      "cell_type": "markdown",
      "metadata": {
        "id": "PdWqgyJL2Obr"
      },
      "source": [
        "---"
      ]
    },
    {
      "cell_type": "markdown",
      "metadata": {
        "id": "rqguMQvo2Obr"
      },
      "source": [
        "#### Reference:https://towardsdatascience.com/natural-language-processing-feature-engineering-using-tf-idf-e8b9d00e7e76"
      ]
    },
    {
      "cell_type": "code",
      "metadata": {
        "colab": {
          "base_uri": "https://localhost:8080/"
        },
        "id": "fQbw9hwE2Obs",
        "outputId": "8f6f392f-5b28-46e3-c2f6-089640fc31af"
      },
      "source": [
        "import nltk\n",
        "nltk.download('punkt')\n",
        "documentA = 'the man went out for a walk'\n",
        "documentB = 'the children sat around the fire'"
      ],
      "execution_count": 5,
      "outputs": [
        {
          "output_type": "stream",
          "text": [
            "[nltk_data] Downloading package punkt to /root/nltk_data...\n",
            "[nltk_data]   Unzipping tokenizers/punkt.zip.\n"
          ],
          "name": "stdout"
        }
      ]
    },
    {
      "cell_type": "markdown",
      "metadata": {
        "id": "J6GK0vl32Obt"
      },
      "source": [
        "## 首先我們做tokenize，並取出所有文件中的單詞"
      ]
    },
    {
      "cell_type": "code",
      "metadata": {
        "colab": {
          "base_uri": "https://localhost:8080/"
        },
        "id": "7zqKCkdw2Obt",
        "outputId": "e2abeb4e-39b2-425a-dcc8-73b72af4ffc1"
      },
      "source": [
        "tokenize_A = nltk.word_tokenize(documentA)\n",
        "tokenize_B = nltk.word_tokenize(documentB)\n",
        "\n",
        "uniqueWords = set(tokenize_A).union(set(tokenize_B)) ##所有文件中的單詞\n",
        "print(uniqueWords)"
      ],
      "execution_count": 7,
      "outputs": [
        {
          "output_type": "stream",
          "text": [
            "{'a', 'around', 'children', 'man', 'went', 'fire', 'sat', 'walk', 'for', 'out', 'the'}\n"
          ],
          "name": "stdout"
        }
      ]
    },
    {
      "cell_type": "markdown",
      "metadata": {
        "id": "a3OmbQxS2Obu"
      },
      "source": [
        "## 計算每個文件中，所有uniqueWords出現的次數"
      ]
    },
    {
      "cell_type": "code",
      "metadata": {
        "id": "1ZAkKSO12Obu"
      },
      "source": [
        "numOfWordsA = dict.fromkeys(uniqueWords, 0)\n",
        "for word in tokenize_A:\n",
        "    numOfWordsA[word] += 1\n",
        "numOfWordsB = dict.fromkeys(uniqueWords, 0)\n",
        "for word in tokenize_B:\n",
        "    numOfWordsB[word] += 1"
      ],
      "execution_count": 8,
      "outputs": []
    },
    {
      "cell_type": "code",
      "metadata": {
        "colab": {
          "base_uri": "https://localhost:8080/"
        },
        "id": "qFmr121K2Obu",
        "outputId": "ac053152-5fc7-443a-ba6d-e7e15df92980"
      },
      "source": [
        "numOfWordsA"
      ],
      "execution_count": 9,
      "outputs": [
        {
          "output_type": "execute_result",
          "data": {
            "text/plain": [
              "{'a': 1,\n",
              " 'around': 0,\n",
              " 'children': 0,\n",
              " 'fire': 0,\n",
              " 'for': 1,\n",
              " 'man': 1,\n",
              " 'out': 1,\n",
              " 'sat': 0,\n",
              " 'the': 1,\n",
              " 'walk': 1,\n",
              " 'went': 1}"
            ]
          },
          "metadata": {
            "tags": []
          },
          "execution_count": 9
        }
      ]
    },
    {
      "cell_type": "code",
      "metadata": {
        "colab": {
          "base_uri": "https://localhost:8080/"
        },
        "id": "yUBMvX8_2Obw",
        "outputId": "e505657d-c426-40ad-bbc6-53fc8c23dff7"
      },
      "source": [
        "numOfWordsB"
      ],
      "execution_count": 10,
      "outputs": [
        {
          "output_type": "execute_result",
          "data": {
            "text/plain": [
              "{'a': 0,\n",
              " 'around': 1,\n",
              " 'children': 1,\n",
              " 'fire': 1,\n",
              " 'for': 0,\n",
              " 'man': 0,\n",
              " 'out': 0,\n",
              " 'sat': 1,\n",
              " 'the': 2,\n",
              " 'walk': 0,\n",
              " 'went': 0}"
            ]
          },
          "metadata": {
            "tags": []
          },
          "execution_count": 10
        }
      ]
    },
    {
      "cell_type": "markdown",
      "metadata": {
        "id": "aPw-P06b2Obw"
      },
      "source": [
        "## 定義function:計算TF"
      ]
    },
    {
      "cell_type": "code",
      "metadata": {
        "id": "eST4PNn72Obx"
      },
      "source": [
        "def computeTF(wordDict, tokenize_item):\n",
        "    \"\"\"\n",
        "    wordDict : 文件內單詞對應出現數量的字典\n",
        "    tokenize_item : 文件tokenize後的輸出\n",
        "    \"\"\"\n",
        "    tfDict = {}\n",
        "    bagOfWordsCount = len(tokenize_item) ## tokenize_item單詞數量\n",
        "    for word, count in wordDict.items():\n",
        "        tfDict[word] = count / bagOfWordsCount ##單詞在該文件出現的次數/該文件擁有的所有單詞數量\n",
        "    return tfDict"
      ],
      "execution_count": 11,
      "outputs": []
    },
    {
      "cell_type": "markdown",
      "metadata": {
        "id": "2oJKvjMC2Obx"
      },
      "source": [
        "## 定義function:計算IDF"
      ]
    },
    {
      "cell_type": "code",
      "metadata": {
        "id": "guUGTkY62Obx"
      },
      "source": [
        "def computeIDF(documentsDict):\n",
        "    \"\"\"\n",
        "    documentsDict:為一個list，包含所有文件的wordDict\n",
        "    \"\"\"\n",
        "    import math\n",
        "    N = len(documentsDict)\n",
        "    \n",
        "    idfDict = dict.fromkeys(documentsDict[0].keys(), 0)\n",
        "    for document in documentsDict:\n",
        "        for word, val in document.items():\n",
        "            if val > 0:\n",
        "                idfDict[word] += 1 ## 計算單詞在多少文件中出現過\n",
        "    \n",
        "    for word, val in idfDict.items():\n",
        "        idfDict[word] = math.log(N/val) ## 計算IDF，Log (所有文件的數目/包含這個單詞的文件數目)\n",
        "    return idfDict"
      ],
      "execution_count": 16,
      "outputs": []
    },
    {
      "cell_type": "markdown",
      "metadata": {
        "id": "MExnEiej2Oby"
      },
      "source": [
        "## 定義function:計算TFIDF"
      ]
    },
    {
      "cell_type": "code",
      "metadata": {
        "id": "mPzn3wH72Oby"
      },
      "source": [
        "\n",
        "def computeTFIDF(tf_item, idfs):\n",
        "    tfidf = {}\n",
        "    for word, val in tf_item.items():\n",
        "        tfidf[word] = val * idfs[word]\n",
        "    return tfidf\n",
        "\n"
      ],
      "execution_count": 17,
      "outputs": []
    },
    {
      "cell_type": "code",
      "metadata": {
        "id": "otPbfpb22Oby"
      },
      "source": [
        "tfA = computeTF(numOfWordsA, tokenize_A)\n",
        "tfB = computeTF(numOfWordsB, tokenize_B)\n",
        "\n",
        "idfs = computeIDF([numOfWordsA, numOfWordsB])\n",
        "\n",
        "\n",
        "tfidfA = computeTFIDF(tfA, idfs)\n",
        "tfidfB = computeTFIDF(tfB, idfs)"
      ],
      "execution_count": 18,
      "outputs": []
    },
    {
      "cell_type": "code",
      "metadata": {
        "colab": {
          "base_uri": "https://localhost:8080/"
        },
        "id": "89QK6Rye6ETr",
        "outputId": "c09988f5-cbfb-47cd-bb52-c3bfcdface40"
      },
      "source": [
        "tfidfA"
      ],
      "execution_count": 19,
      "outputs": [
        {
          "output_type": "execute_result",
          "data": {
            "text/plain": [
              "{'a': 0.09902102579427789,\n",
              " 'around': 0.0,\n",
              " 'children': 0.0,\n",
              " 'fire': 0.0,\n",
              " 'for': 0.09902102579427789,\n",
              " 'man': 0.09902102579427789,\n",
              " 'out': 0.09902102579427789,\n",
              " 'sat': 0.0,\n",
              " 'the': 0.0,\n",
              " 'walk': 0.09902102579427789,\n",
              " 'went': 0.09902102579427789}"
            ]
          },
          "metadata": {
            "tags": []
          },
          "execution_count": 19
        }
      ]
    },
    {
      "cell_type": "code",
      "metadata": {
        "colab": {
          "base_uri": "https://localhost:8080/"
        },
        "id": "kHV_Fmp46Hv6",
        "outputId": "c823e68e-4f57-4afa-d17c-3c184c395904"
      },
      "source": [
        "tfidfB"
      ],
      "execution_count": 20,
      "outputs": [
        {
          "output_type": "execute_result",
          "data": {
            "text/plain": [
              "{'a': 0.0,\n",
              " 'around': 0.11552453009332421,\n",
              " 'children': 0.11552453009332421,\n",
              " 'fire': 0.11552453009332421,\n",
              " 'for': 0.0,\n",
              " 'man': 0.0,\n",
              " 'out': 0.0,\n",
              " 'sat': 0.11552453009332421,\n",
              " 'the': 0.0,\n",
              " 'walk': 0.0,\n",
              " 'went': 0.0}"
            ]
          },
          "metadata": {
            "tags": []
          },
          "execution_count": 20
        }
      ]
    },
    {
      "cell_type": "code",
      "metadata": {
        "id": "OiG7HGla2Obz"
      },
      "source": [
        ""
      ],
      "execution_count": null,
      "outputs": []
    }
  ]
}