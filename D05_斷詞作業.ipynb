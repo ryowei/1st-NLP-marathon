{
  "nbformat": 4,
  "nbformat_minor": 0,
  "metadata": {
    "kernelspec": {
      "name": "python3",
      "display_name": "Python 3"
    },
    "colab": {
      "name": "D05_斷詞作業.ipynb",
      "provenance": [],
      "include_colab_link": true
    },
    "accelerator": "GPU"
  },
  "cells": [
    {
      "cell_type": "markdown",
      "metadata": {
        "id": "view-in-github",
        "colab_type": "text"
      },
      "source": [
        "<a href=\"https://colab.research.google.com/github/ryowei/1st-NLP-marathon/blob/main/D05_%E6%96%B7%E8%A9%9E%E4%BD%9C%E6%A5%AD.ipynb\" target=\"_parent\"><img src=\"https://colab.research.google.com/assets/colab-badge.svg\" alt=\"Open In Colab\"/></a>"
      ]
    },
    {
      "cell_type": "markdown",
      "metadata": {
        "id": "z9Y2Jii-eavs"
      },
      "source": [
        "## 作業目標: 了解斷詞演算法的背後計算"
      ]
    },
    {
      "cell_type": "markdown",
      "metadata": {
        "id": "cbzZ-HZjeavs"
      },
      "source": [
        "### 根據課程講述的內容, 請計算出下列剩餘所有情況的\n",
        "若有一個人連續觀察到三天水草都是乾燥的(Dry), 則這三天的天氣機率為何？(可參考講義第13頁)\n",
        "(Hint: 共有8種可能機率)\n",
        "\n",
        "```python\n",
        "states = ('sunny', 'rainy')\n",
        "observations = ('dry', 'damp', 'soggy')\n",
        "start_probability = {'sunny': 0.4, 'rainy': 0.6}\n",
        "transition_probability = {'sunny':{'sunny':0.6, 'rainy':0.4},\n",
        "                          'rainy': {'sunny':0.3, 'rainy':0.7}}\n",
        "emission_probatility = {'sunny': {'dry':0.6, 'damp':0.3, 'soggy':0.1},\n",
        "                        'rainy': {'dry':0.1, 'damp':0.4, 'soggy':0.5}}\n",
        "```"
      ]
    },
    {
      "cell_type": "markdown",
      "metadata": {
        "id": "lf-AB-bDeavs"
      },
      "source": [
        "```\n",
        "觀察狀態 = 'dry', 'dry', 'dry'\n",
        "Sunny, Sunny, Sunny: 0.4*(0.6)*0.6*(0.6)*0.6*(0.6) = 0.031104\n",
        "Rainy, Sunny, Sunny: 0.6*(0.1)*0.3*(0.6)*0.6*(0.6) = 0.003888\n",
        "```\n",
        "\n",
        "\n",
        "###<your answers>###\n",
        "\n",
        "```\n",
        "case n : day1_weather -> day2_weather -> day3_weather\n",
        "weather : sunny & rainy (2 種）\n",
        "number of day: 3 天\n",
        "總共的 case: 2^3 = 8\n",
        "```\n",
        "\n",
        "\n",
        "```\n",
        "case 1: sunny, sunny, sunny\n",
        "\n",
        "a. 第一個Sunny: Sunny的initial = 0.4，而由Dry的狀態下是Sunny的機率=0.6 => 0.4*0.6\n",
        "{initial_prob * emission_prob}\n",
        "\n",
        "b. 第二個Sunny: 前一天是Sunny而今天還是Sunny的機率 = 0.6，而由Dry的狀態下是Sunny的機率=0.6 => 0.6 * 0.6\n",
        "{transition_prob * emission_prob}\n",
        "\n",
        "c. 第三個Sunny: 前一天是Sunny而今天還是Sunny的機率 = 0.6，而由Dry的狀態下是Sunny的機率=0.6 => 0.6 * 0.6\n",
        "{transition_prob * emission_prob}\n",
        "\n",
        "因此最後Sunny, Sunny, Sunny在Dry, Dry, Dry的觀察狀態下的機率是 0.4*0.6*0.6*0.6*0.6*0.6 = 0.031104\n",
        "\n",
        "```\n",
        "\n",
        "```\n",
        "case 2: sunny, sunny, rainy\n",
        "a. initial_prob(sunny) * emission_prob(sunny) = 0.4*0.6\n",
        "\n",
        "b. transition_prob(sunny to sunny) * emission_prob(sunny) = 0.6*0.6\n",
        "\n",
        "c. transition_prob(sunny to rainy) * emission_prob(rainy) = 0.4*0.1\n",
        "\n",
        "So, sunny, sunny, rainy prob is 0.4*0.6*0.6*0.6*0.4*0.1 = 0.003456\n",
        "\n",
        "```\n",
        "\n",
        "```\n",
        "case 3: sunny, rainy, sunny\n",
        "\n",
        "a. initial_prob(sunny) * emission_prob(sunny) = 0.4*0.6\n",
        "\n",
        "b. transition_prob(sunny to rainy) * emission_prob(rainy) = 0.4*0.1\n",
        "\n",
        "c. transition_prob(rainy to sunny) * emission_prob(sunny) = 0.3*0.6\n",
        "\n",
        "So, sunny, rainy, sunny prob is 0.4*0.6*0.4*0.1*0.3*0.6 = 0.001728\n",
        "```\n",
        "\n",
        "\n",
        "```\n",
        "case 4: rainy, sunny, sunny\n",
        "a. initial_prob(rainy) * emission_prob(rainy) = 0.6*0.1\n",
        "\n",
        "b. transition_prob(rainy to sunny) * emission_prob(sunny) = 0.3*0.6\n",
        "\n",
        "c. transition_prob(sunny to sunny) * emission_prob(sunny) = 0.6*0.6\n",
        "\n",
        "So, rainy, sunny, sunny prob is 0.6*0.1*0.3*0.6*0.6*0.6 = 0.003888\n",
        "\n",
        "\n",
        "\n",
        "```\n",
        "\n",
        "```\n",
        "case 5: sunny, rainy, rainy\n",
        "a. initial_prob(sunny) * emission_prob(sunny) = 0.4*0.6\n",
        "\n",
        "b. transition_prob(sunny to rainy) * emission_prob(rainy) = 0.4*0.1\n",
        "\n",
        "c. transition_prob(rainy to rainy) * emission_prob(rainy) = 0.7*0.1\n",
        "\n",
        "So, rainy, sunny, sunny prob is 0.4*0.6*0.4*0.1*0.7*0.1 = 0.000672\n",
        "\n",
        "```\n",
        "\n",
        "```\n",
        "case 6: rainy, rainy, sunny\n",
        "\n",
        "a. initial_prob(rainy) * emission_prob(rainy) = 0.6*0.1\n",
        "\n",
        "b. transition_prob(rainy to rainy) * emission_prob(rainy) = 0.7*0.1\n",
        "\n",
        "c. transition_prob(rainy to sunny) * emission_prob(sunny) = 0.3*0.6\n",
        "\n",
        "So, rainy, sunny, sunny prob is 0.6*0.1*0.7*0.1*0.3*0.6 = 0.000756\n",
        "\n",
        "```\n",
        "\n",
        "```\n",
        "case 7: rainy, sunny, rainy\n",
        "\n",
        "a. initial_prob(rainy) * emission_prob(rainy) = 0.6*0.1\n",
        "\n",
        "b. transition_prob(rainy to sunny) * emission_prob(sunny) = 0.3*0.6\n",
        "\n",
        "c. transition_prob(sunny to rainy) * emission_prob(rainy) = 0.4*0.1\n",
        "\n",
        "So, rainy, sunny, rainy prob is 0.6*0.1*0.3*0.6*0.4*0.1 = 0.000432\n",
        "\n",
        "```\n",
        "\n",
        "\n",
        "```\n",
        "case 8: rainy, rainy, rainy\n",
        "\n",
        "a. initial_prob(rainy) * emission_prob(rainy) = 0.6*0.1\n",
        "\n",
        "b. transition_prob(rainy to rainy) * emission_prob(sunny) = 0.7*0.1\n",
        "\n",
        "c. transition_prob(rainy to rainy) * emission_prob(rainy) = 0.7*0.1\n",
        "\n",
        "So, rainy, rainy, rainy prob is 0.6*0.1*0.7*0.1*0.7*0.1 = 0.000294\n",
        "```\n",
        "\n",
        "\n",
        "\n",
        "\n",
        "\n",
        "\n",
        "最大機率為: Sunny, Sunny, Sunny\n"
      ]
    },
    {
      "cell_type": "markdown",
      "metadata": {
        "id": "GnYKd0_Ieavs"
      },
      "source": [
        "### 根據上述條件, 寫出Viterbi應用程式"
      ]
    },
    {
      "cell_type": "code",
      "metadata": {
        "id": "Yn3XarKEeavs"
      },
      "source": [
        "observations = ('dry', 'dry', 'dry') #實際上觀察到的狀態為dry, dry, dry\n",
        "states = ('sunny', 'rainy')\n",
        "start_probability = {'sunny': 0.4, 'rainy': 0.6}\n",
        "transition_probability = {'sunny':{'sunny':0.6, 'rainy':0.4},\n",
        "                          'rainy': {'sunny':0.3, 'rainy':0.7}}\n",
        "emission_probatility = {'sunny': {'dry':0.6, 'damp':0.3, 'soggy':0.1},\n",
        "                        'rainy': {'dry':0.1, 'damp':0.4, 'soggy':0.5}}"
      ],
      "execution_count": 3,
      "outputs": []
    },
    {
      "cell_type": "code",
      "metadata": {
        "id": "EpOfw_tSeavs"
      },
      "source": [
        "def viterbi(obs, states, start_p, trans_p, emit_p):\n",
        "    V = [{}]\n",
        "    path = {}\n",
        "\n",
        "    # Initialize base cases (t == 0)\n",
        "    for y in states:\n",
        "        ###<your codes>###\n",
        "        V[0][y] = start_p[y] * emit_p[y][obs[0]]\n",
        "        path[y] = [y]\n",
        "    # Run Viterbi for t > 0\n",
        "    for t in range(1,len(obs)):\n",
        "        ###<your codes>###\n",
        "\n",
        "        V.append({})\n",
        "        newpath = {}\n",
        "        \n",
        "        for cur_state in states:\n",
        "          (prob, state) = max([(V[t-1][pre_state] * trans_p[pre_state][cur_state] * emit_p[cur_state][obs[t]], pre_state) for pre_state in states])\n",
        "          V[t][cur_state] = prob\n",
        "          newpath[cur_state] = path[state] + [cur_state]\n",
        "          \n",
        "        # Don't need to remember the old paths\n",
        "        path = newpath\n",
        "    \n",
        "    (prob, state) = max([(V[len(obs) - 1][final_state], final_state) for final_state in states])\n",
        "    return (prob, path[state])"
      ],
      "execution_count": 5,
      "outputs": []
    },
    {
      "cell_type": "code",
      "metadata": {
        "id": "xCCGvSjeeavs"
      },
      "source": [
        "result = viterbi(observations,\n",
        "                 states,\n",
        "                 start_probability,\n",
        "                 transition_probability,\n",
        "                 emission_probatility)"
      ],
      "execution_count": 6,
      "outputs": []
    },
    {
      "cell_type": "code",
      "metadata": {
        "colab": {
          "base_uri": "https://localhost:8080/"
        },
        "id": "B5DO3vrpeavs",
        "outputId": "63153295-0b41-4243-b159-ac17584c7b18"
      },
      "source": [
        "result"
      ],
      "execution_count": 7,
      "outputs": [
        {
          "output_type": "execute_result",
          "data": {
            "text/plain": [
              "(0.031103999999999993, ['sunny', 'sunny', 'sunny'])"
            ]
          },
          "metadata": {
            "tags": []
          },
          "execution_count": 7
        }
      ]
    },
    {
      "cell_type": "code",
      "metadata": {
        "id": "zAXRaH0dqvaZ"
      },
      "source": [
        ""
      ],
      "execution_count": null,
      "outputs": []
    }
  ]
}